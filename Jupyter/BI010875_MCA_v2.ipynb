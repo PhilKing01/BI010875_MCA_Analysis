{
 "cells": [
  {
   "cell_type": "markdown",
   "metadata": {},
   "source": [
    "BI010875 MCA Analysis"
   ]
  },
  {
   "cell_type": "code",
   "execution_count": 1,
   "metadata": {},
   "outputs": [],
   "source": [
    "import pandas as pd\n",
    "import numpy as np\n",
    "import scipy.stats as ss\n",
    "import seaborn as sns\n",
    "import matplotlib.pyplot as plt\n",
    "from scipy.cluster.hierarchy import linkage, leaves_list\n",
    "from graphviz import Digraph\n",
    "from IPython.display import Image, display\n"
   ]
  },
  {
   "cell_type": "markdown",
   "metadata": {},
   "source": [
    "Load the data"
   ]
  },
  {
   "cell_type": "code",
   "execution_count": 2,
   "metadata": {},
   "outputs": [],
   "source": [
    "\n",
    "# ---- Load your data ----\n",
    "file_path = \"/home/king/projects/BI010875_MCA/Data_files/BI010875 MCA Analysis DATA MASTER v0.1.xlsx\"\n",
    "\n",
    "# headers start on row 4 (header=3)\n",
    "df = pd.read_excel(file_path, sheet_name=\"Sheet1\", header=3)\n"
   ]
  },
  {
   "cell_type": "code",
   "execution_count": 3,
   "metadata": {},
   "outputs": [
    {
     "data": {
      "text/html": [
       "<div>\n",
       "<style scoped>\n",
       "    .dataframe tbody tr th:only-of-type {\n",
       "        vertical-align: middle;\n",
       "    }\n",
       "\n",
       "    .dataframe tbody tr th {\n",
       "        vertical-align: top;\n",
       "    }\n",
       "\n",
       "    .dataframe thead th {\n",
       "        text-align: right;\n",
       "    }\n",
       "</style>\n",
       "<table border=\"1\" class=\"dataframe\">\n",
       "  <thead>\n",
       "    <tr style=\"text-align: right;\">\n",
       "      <th></th>\n",
       "      <th>careepisodeID</th>\n",
       "      <th>IJD_IncidentNumber</th>\n",
       "      <th>IncidentDate</th>\n",
       "      <th>ChiefComplaint</th>\n",
       "      <th>MechanismDetail</th>\n",
       "      <th>ImpressionSuspectedDiagnosis</th>\n",
       "      <th>Mental Capacity Assessment Undertaken</th>\n",
       "      <th>Patient Does Have Capacity</th>\n",
       "      <th>Patient Does NOT Have Capacity</th>\n",
       "      <th>Does the patient have an impairment or, a disturbance in the functioning of, their mind or brain at the moment?</th>\n",
       "      <th>Is the impairment or disturbance suffcient that the person lacks the capaity to make the decision at this time?</th>\n",
       "      <th>Does the patient understand the information relevant to the decision including the likely consequances...?</th>\n",
       "      <th>Can the patient retain that information?</th>\n",
       "      <th>Can the patient use or weigh that information as part of the process of making the decision?</th>\n",
       "      <th>Can the patient communicate that decision by any means?</th>\n",
       "      <th>Pathway_Comment</th>\n",
       "      <th>proposedCarePatientBestInterest</th>\n",
       "      <th>Service Outcome</th>\n",
       "    </tr>\n",
       "  </thead>\n",
       "  <tbody>\n",
       "    <tr>\n",
       "      <th>0</th>\n",
       "      <td>23284264</td>\n",
       "      <td>S0308250927</td>\n",
       "      <td>2025-08-03</td>\n",
       "      <td>Neurological; Confusion</td>\n",
       "      <td>No Subcategory Recorded; No Subcategory Recorded</td>\n",
       "      <td>Infectious disease; Respiratory; Bronchopneumonia</td>\n",
       "      <td>Yes</td>\n",
       "      <td>No</td>\n",
       "      <td>Yes</td>\n",
       "      <td>Yes</td>\n",
       "      <td>Yes</td>\n",
       "      <td>NotRecorded</td>\n",
       "      <td>NotRecorded</td>\n",
       "      <td>NotRecorded</td>\n",
       "      <td>NotRecorded</td>\n",
       "      <td>NaN</td>\n",
       "      <td>NotRecorded</td>\n",
       "      <td>NaN</td>\n",
       "    </tr>\n",
       "    <tr>\n",
       "      <th>1</th>\n",
       "      <td>23298020</td>\n",
       "      <td>S0608250566</td>\n",
       "      <td>2025-08-06</td>\n",
       "      <td>Trauma / musculoskeletal; Backache (no recent ...</td>\n",
       "      <td>No Subcategory Recorded; No Subcategory Recorded</td>\n",
       "      <td>Soft tissue inj / wound; Muscle injury; Upper ...</td>\n",
       "      <td>Yes</td>\n",
       "      <td>Yes</td>\n",
       "      <td>NaN</td>\n",
       "      <td>No</td>\n",
       "      <td>NotRecorded</td>\n",
       "      <td>NotRecorded</td>\n",
       "      <td>NotRecorded</td>\n",
       "      <td>NotRecorded</td>\n",
       "      <td>NotRecorded</td>\n",
       "      <td>NaN</td>\n",
       "      <td>Yes</td>\n",
       "      <td>NaN</td>\n",
       "    </tr>\n",
       "    <tr>\n",
       "      <th>2</th>\n",
       "      <td>23416083</td>\n",
       "      <td>S1512310313</td>\n",
       "      <td>2025-08-30</td>\n",
       "      <td>Neurological; Confusion</td>\n",
       "      <td>No Subcategory Recorded; No Subcategory Recorded</td>\n",
       "      <td>Infectious disease; GU / GI; Urinary tract inf...</td>\n",
       "      <td>Yes</td>\n",
       "      <td>No</td>\n",
       "      <td>Yes</td>\n",
       "      <td>Yes</td>\n",
       "      <td>Yes</td>\n",
       "      <td>NotRecorded</td>\n",
       "      <td>NotRecorded</td>\n",
       "      <td>NotRecorded</td>\n",
       "      <td>NotRecorded</td>\n",
       "      <td>NaN</td>\n",
       "      <td>NotRecorded</td>\n",
       "      <td>NaN</td>\n",
       "    </tr>\n",
       "    <tr>\n",
       "      <th>3</th>\n",
       "      <td>23318894</td>\n",
       "      <td>S1512312053</td>\n",
       "      <td>2025-08-10</td>\n",
       "      <td>Circulation / chest; Cardiac arrest</td>\n",
       "      <td>No Subcategory Recorded; No Subcategory Recorded</td>\n",
       "      <td>Trauma / FB; Complication of injury; Rhabdomyo...</td>\n",
       "      <td>Yes</td>\n",
       "      <td>No</td>\n",
       "      <td>Yes</td>\n",
       "      <td>Yes</td>\n",
       "      <td>Yes</td>\n",
       "      <td>NotRecorded</td>\n",
       "      <td>NotRecorded</td>\n",
       "      <td>NotRecorded</td>\n",
       "      <td>NotRecorded</td>\n",
       "      <td>NaN</td>\n",
       "      <td>NotRecorded</td>\n",
       "      <td>NaN</td>\n",
       "    </tr>\n",
       "    <tr>\n",
       "      <th>4</th>\n",
       "      <td>23332163</td>\n",
       "      <td>S2308131281</td>\n",
       "      <td>2025-08-13</td>\n",
       "      <td>Neurological; Falls / unsteady on feet</td>\n",
       "      <td>Fall; Tripping</td>\n",
       "      <td>Env / social / comp / NAD; Care process; No ab...</td>\n",
       "      <td>Yes</td>\n",
       "      <td>Yes</td>\n",
       "      <td>NaN</td>\n",
       "      <td>No</td>\n",
       "      <td>NotRecorded</td>\n",
       "      <td>NotRecorded</td>\n",
       "      <td>NotRecorded</td>\n",
       "      <td>NotRecorded</td>\n",
       "      <td>NotRecorded</td>\n",
       "      <td>NaN</td>\n",
       "      <td>NotRecorded</td>\n",
       "      <td>NaN</td>\n",
       "    </tr>\n",
       "  </tbody>\n",
       "</table>\n",
       "</div>"
      ],
      "text/plain": [
       "   careepisodeID IJD_IncidentNumber IncidentDate  \\\n",
       "0       23284264        S0308250927   2025-08-03   \n",
       "1       23298020        S0608250566   2025-08-06   \n",
       "2       23416083        S1512310313   2025-08-30   \n",
       "3       23318894        S1512312053   2025-08-10   \n",
       "4       23332163        S2308131281   2025-08-13   \n",
       "\n",
       "                                      ChiefComplaint  \\\n",
       "0                            Neurological; Confusion   \n",
       "1  Trauma / musculoskeletal; Backache (no recent ...   \n",
       "2                            Neurological; Confusion   \n",
       "3                Circulation / chest; Cardiac arrest   \n",
       "4             Neurological; Falls / unsteady on feet   \n",
       "\n",
       "                                    MechanismDetail  \\\n",
       "0  No Subcategory Recorded; No Subcategory Recorded   \n",
       "1  No Subcategory Recorded; No Subcategory Recorded   \n",
       "2  No Subcategory Recorded; No Subcategory Recorded   \n",
       "3  No Subcategory Recorded; No Subcategory Recorded   \n",
       "4                                    Fall; Tripping   \n",
       "\n",
       "                        ImpressionSuspectedDiagnosis  \\\n",
       "0  Infectious disease; Respiratory; Bronchopneumonia   \n",
       "1  Soft tissue inj / wound; Muscle injury; Upper ...   \n",
       "2  Infectious disease; GU / GI; Urinary tract inf...   \n",
       "3  Trauma / FB; Complication of injury; Rhabdomyo...   \n",
       "4  Env / social / comp / NAD; Care process; No ab...   \n",
       "\n",
       "  Mental Capacity Assessment Undertaken Patient Does Have Capacity  \\\n",
       "0                                   Yes                         No   \n",
       "1                                   Yes                        Yes   \n",
       "2                                   Yes                         No   \n",
       "3                                   Yes                         No   \n",
       "4                                   Yes                        Yes   \n",
       "\n",
       "  Patient Does NOT Have Capacity  \\\n",
       "0                            Yes   \n",
       "1                            NaN   \n",
       "2                            Yes   \n",
       "3                            Yes   \n",
       "4                            NaN   \n",
       "\n",
       "  Does the patient have an impairment or, a disturbance in the functioning of, their mind or brain at the moment?  \\\n",
       "0                                                Yes                                                                \n",
       "1                                                No                                                                 \n",
       "2                                                Yes                                                                \n",
       "3                                                Yes                                                                \n",
       "4                                                No                                                                 \n",
       "\n",
       "  Is the impairment or disturbance suffcient that the person lacks the capaity to make the decision at this time?  \\\n",
       "0                                                Yes                                                                \n",
       "1                                        NotRecorded                                                                \n",
       "2                                                Yes                                                                \n",
       "3                                                Yes                                                                \n",
       "4                                        NotRecorded                                                                \n",
       "\n",
       "  Does the patient understand the information relevant to the decision including the likely consequances...?  \\\n",
       "0                                        NotRecorded                                                           \n",
       "1                                        NotRecorded                                                           \n",
       "2                                        NotRecorded                                                           \n",
       "3                                        NotRecorded                                                           \n",
       "4                                        NotRecorded                                                           \n",
       "\n",
       "  Can the patient retain that information?  \\\n",
       "0                              NotRecorded   \n",
       "1                              NotRecorded   \n",
       "2                              NotRecorded   \n",
       "3                              NotRecorded   \n",
       "4                              NotRecorded   \n",
       "\n",
       "  Can the patient use or weigh that information as part of the process of making the decision?  \\\n",
       "0                                        NotRecorded                                             \n",
       "1                                        NotRecorded                                             \n",
       "2                                        NotRecorded                                             \n",
       "3                                        NotRecorded                                             \n",
       "4                                        NotRecorded                                             \n",
       "\n",
       "  Can the patient communicate that decision by any means? Pathway_Comment  \\\n",
       "0                                        NotRecorded                  NaN   \n",
       "1                                        NotRecorded                  NaN   \n",
       "2                                        NotRecorded                  NaN   \n",
       "3                                        NotRecorded                  NaN   \n",
       "4                                        NotRecorded                  NaN   \n",
       "\n",
       "  proposedCarePatientBestInterest Service Outcome  \n",
       "0                     NotRecorded             NaN  \n",
       "1                             Yes             NaN  \n",
       "2                     NotRecorded             NaN  \n",
       "3                     NotRecorded             NaN  \n",
       "4                     NotRecorded             NaN  "
      ]
     },
     "execution_count": 3,
     "metadata": {},
     "output_type": "execute_result"
    }
   ],
   "source": [
    "df.head()"
   ]
  },
  {
   "cell_type": "markdown",
   "metadata": {},
   "source": [
    "Clean it up"
   ]
  },
  {
   "cell_type": "code",
   "execution_count": 4,
   "metadata": {},
   "outputs": [],
   "source": [
    "\n",
    "# ---- Drop non-analytic fields ----\n",
    "df = df.drop(columns=[  \"careepisodeID\", \"IncidentDate\", \"IJD_IncidentNumber\", \n",
    "                        \"ChiefComplaint\", \"MechanismDetail\", \n",
    "                        \"ImpressionSuspectedDiagnosis\"\n",
    "    ], errors=\"ignore\")\n",
    "\n"
   ]
  },
  {
   "cell_type": "code",
   "execution_count": 5,
   "metadata": {},
   "outputs": [],
   "source": [
    "# Replace NaN with 'Unknown' for clarity\n",
    "df = df.fillna(\"NotRecorded\")"
   ]
  },
  {
   "cell_type": "markdown",
   "metadata": {},
   "source": [
    "Show all unique values in the data"
   ]
  },
  {
   "cell_type": "code",
   "execution_count": 6,
   "metadata": {},
   "outputs": [
    {
     "data": {
      "text/html": [
       "<div>\n",
       "<style scoped>\n",
       "    .dataframe tbody tr th:only-of-type {\n",
       "        vertical-align: middle;\n",
       "    }\n",
       "\n",
       "    .dataframe tbody tr th {\n",
       "        vertical-align: top;\n",
       "    }\n",
       "\n",
       "    .dataframe thead th {\n",
       "        text-align: right;\n",
       "    }\n",
       "</style>\n",
       "<table border=\"1\" class=\"dataframe\">\n",
       "  <thead>\n",
       "    <tr style=\"text-align: right;\">\n",
       "      <th></th>\n",
       "      <th>Mental Capacity Assessment Undertaken</th>\n",
       "      <th>Patient Does Have Capacity</th>\n",
       "      <th>Patient Does NOT Have Capacity</th>\n",
       "      <th>Does the patient have an impairment or, a disturbance in the functioning of, their mind or brain at the moment?</th>\n",
       "      <th>Is the impairment or disturbance suffcient that the person lacks the capaity to make the decision at this time?</th>\n",
       "      <th>Does the patient understand the information relevant to the decision including the likely consequances...?</th>\n",
       "      <th>Can the patient retain that information?</th>\n",
       "      <th>Can the patient use or weigh that information as part of the process of making the decision?</th>\n",
       "      <th>Can the patient communicate that decision by any means?</th>\n",
       "      <th>Pathway_Comment</th>\n",
       "      <th>proposedCarePatientBestInterest</th>\n",
       "      <th>Service Outcome</th>\n",
       "    </tr>\n",
       "  </thead>\n",
       "  <tbody>\n",
       "    <tr>\n",
       "      <th>0</th>\n",
       "      <td>Yes</td>\n",
       "      <td>No</td>\n",
       "      <td>Yes</td>\n",
       "      <td>Yes</td>\n",
       "      <td>Yes</td>\n",
       "      <td>NotRecorded</td>\n",
       "      <td>NotRecorded</td>\n",
       "      <td>NotRecorded</td>\n",
       "      <td>NotRecorded</td>\n",
       "      <td>NotRecorded</td>\n",
       "      <td>NotRecorded</td>\n",
       "      <td>NotRecorded</td>\n",
       "    </tr>\n",
       "    <tr>\n",
       "      <th>1</th>\n",
       "      <td>Yes</td>\n",
       "      <td>Yes</td>\n",
       "      <td>NotRecorded</td>\n",
       "      <td>No</td>\n",
       "      <td>NotRecorded</td>\n",
       "      <td>NotRecorded</td>\n",
       "      <td>NotRecorded</td>\n",
       "      <td>NotRecorded</td>\n",
       "      <td>NotRecorded</td>\n",
       "      <td>NotRecorded</td>\n",
       "      <td>Yes</td>\n",
       "      <td>NotRecorded</td>\n",
       "    </tr>\n",
       "    <tr>\n",
       "      <th>2</th>\n",
       "      <td>Yes</td>\n",
       "      <td>No</td>\n",
       "      <td>Yes</td>\n",
       "      <td>Yes</td>\n",
       "      <td>Yes</td>\n",
       "      <td>NotRecorded</td>\n",
       "      <td>NotRecorded</td>\n",
       "      <td>NotRecorded</td>\n",
       "      <td>NotRecorded</td>\n",
       "      <td>NotRecorded</td>\n",
       "      <td>NotRecorded</td>\n",
       "      <td>NotRecorded</td>\n",
       "    </tr>\n",
       "    <tr>\n",
       "      <th>3</th>\n",
       "      <td>Yes</td>\n",
       "      <td>No</td>\n",
       "      <td>Yes</td>\n",
       "      <td>Yes</td>\n",
       "      <td>Yes</td>\n",
       "      <td>NotRecorded</td>\n",
       "      <td>NotRecorded</td>\n",
       "      <td>NotRecorded</td>\n",
       "      <td>NotRecorded</td>\n",
       "      <td>NotRecorded</td>\n",
       "      <td>NotRecorded</td>\n",
       "      <td>NotRecorded</td>\n",
       "    </tr>\n",
       "    <tr>\n",
       "      <th>4</th>\n",
       "      <td>Yes</td>\n",
       "      <td>Yes</td>\n",
       "      <td>NotRecorded</td>\n",
       "      <td>No</td>\n",
       "      <td>NotRecorded</td>\n",
       "      <td>NotRecorded</td>\n",
       "      <td>NotRecorded</td>\n",
       "      <td>NotRecorded</td>\n",
       "      <td>NotRecorded</td>\n",
       "      <td>NotRecorded</td>\n",
       "      <td>NotRecorded</td>\n",
       "      <td>NotRecorded</td>\n",
       "    </tr>\n",
       "  </tbody>\n",
       "</table>\n",
       "</div>"
      ],
      "text/plain": [
       "  Mental Capacity Assessment Undertaken Patient Does Have Capacity  \\\n",
       "0                                   Yes                         No   \n",
       "1                                   Yes                        Yes   \n",
       "2                                   Yes                         No   \n",
       "3                                   Yes                         No   \n",
       "4                                   Yes                        Yes   \n",
       "\n",
       "  Patient Does NOT Have Capacity  \\\n",
       "0                            Yes   \n",
       "1                    NotRecorded   \n",
       "2                            Yes   \n",
       "3                            Yes   \n",
       "4                    NotRecorded   \n",
       "\n",
       "  Does the patient have an impairment or, a disturbance in the functioning of, their mind or brain at the moment?  \\\n",
       "0                                                Yes                                                                \n",
       "1                                                No                                                                 \n",
       "2                                                Yes                                                                \n",
       "3                                                Yes                                                                \n",
       "4                                                No                                                                 \n",
       "\n",
       "  Is the impairment or disturbance suffcient that the person lacks the capaity to make the decision at this time?  \\\n",
       "0                                                Yes                                                                \n",
       "1                                        NotRecorded                                                                \n",
       "2                                                Yes                                                                \n",
       "3                                                Yes                                                                \n",
       "4                                        NotRecorded                                                                \n",
       "\n",
       "  Does the patient understand the information relevant to the decision including the likely consequances...?  \\\n",
       "0                                        NotRecorded                                                           \n",
       "1                                        NotRecorded                                                           \n",
       "2                                        NotRecorded                                                           \n",
       "3                                        NotRecorded                                                           \n",
       "4                                        NotRecorded                                                           \n",
       "\n",
       "  Can the patient retain that information?  \\\n",
       "0                              NotRecorded   \n",
       "1                              NotRecorded   \n",
       "2                              NotRecorded   \n",
       "3                              NotRecorded   \n",
       "4                              NotRecorded   \n",
       "\n",
       "  Can the patient use or weigh that information as part of the process of making the decision?  \\\n",
       "0                                        NotRecorded                                             \n",
       "1                                        NotRecorded                                             \n",
       "2                                        NotRecorded                                             \n",
       "3                                        NotRecorded                                             \n",
       "4                                        NotRecorded                                             \n",
       "\n",
       "  Can the patient communicate that decision by any means? Pathway_Comment  \\\n",
       "0                                        NotRecorded          NotRecorded   \n",
       "1                                        NotRecorded          NotRecorded   \n",
       "2                                        NotRecorded          NotRecorded   \n",
       "3                                        NotRecorded          NotRecorded   \n",
       "4                                        NotRecorded          NotRecorded   \n",
       "\n",
       "  proposedCarePatientBestInterest Service Outcome  \n",
       "0                     NotRecorded     NotRecorded  \n",
       "1                             Yes     NotRecorded  \n",
       "2                     NotRecorded     NotRecorded  \n",
       "3                     NotRecorded     NotRecorded  \n",
       "4                     NotRecorded     NotRecorded  "
      ]
     },
     "execution_count": 6,
     "metadata": {},
     "output_type": "execute_result"
    }
   ],
   "source": [
    "df.head()"
   ]
  },
  {
   "cell_type": "markdown",
   "metadata": {},
   "source": [
    "Create Graphviz Digraph and build the tree"
   ]
  },
  {
   "cell_type": "code",
   "execution_count": 7,
   "metadata": {},
   "outputs": [
    {
     "data": {
      "application/vnd.plotly.v1+json": {
       "config": {
        "plotlyServerURL": "https://plot.ly"
       },
       "data": [
        {
         "domain": {
          "x": [
           0,
           1
          ],
          "y": [
           0.25,
           1
          ]
         },
         "link": {
          "color": [
           "lightgreen",
           "lightgreen",
           "lightcoral",
           "lightcoral",
           "lightcoral",
           "lightgreen",
           "lightgreen",
           "lightgreen",
           "lightblue",
           "lightblue",
           "lightgreen",
           "lightgreen",
           "lightblue",
           "lightblue",
           "lightblue",
           "lightgreen",
           "lightblue",
           "lightblue",
           "lightblue",
           "lightgreen",
           "lightgreen",
           "lightblue",
           "lightblue",
           "lightblue",
           "lightblue",
           "lightgreen",
           "lightgreen",
           "lightblue",
           "lightblue",
           "lightblue",
           "lightgreen",
           "lightblue",
           "lightblue",
           "lightblue",
           "lightblue",
           "lightblue",
           "lightgreen",
           "lightgreen",
           "lightgreen",
           "lightcoral",
           "lightcoral",
           "lightblue",
           "lightblue",
           "lightblue",
           "lightblue",
           "lightblue",
           "lightblue",
           "lightgreen",
           "lightgreen",
           "lightgreen",
           "lightgreen"
          ],
          "hovertemplate": "%{value} records<extra></extra>",
          "source": [
           0,
           0,
           1,
           1,
           1,
           2,
           2,
           2,
           4,
           5,
           3,
           3,
           8,
           8,
           7,
           6,
           11,
           11,
           9,
           10,
           10,
           14,
           14,
           14,
           12,
           13,
           13,
           17,
           17,
           15,
           16,
           20,
           20,
           18,
           18,
           18,
           19,
           19,
           19,
           23,
           23,
           21,
           21,
           21,
           21,
           21,
           21,
           22,
           22,
           22,
           22
          ],
          "target": [
           1,
           2,
           4,
           5,
           3,
           4,
           5,
           3,
           7,
           7,
           8,
           6,
           11,
           10,
           9,
           9,
           14,
           13,
           12,
           14,
           13,
           17,
           15,
           16,
           15,
           17,
           16,
           20,
           19,
           18,
           19,
           21,
           22,
           23,
           21,
           22,
           23,
           21,
           22,
           25,
           26,
           27,
           28,
           24,
           25,
           26,
           29,
           27,
           24,
           25,
           26
          ],
          "value": [
           2429,
           13510,
           2,
           363,
           2064,
           12659,
           253,
           598,
           12661,
           616,
           666,
           1996,
           38,
           628,
           13277,
           1996,
           36,
           2,
           15273,
           27,
           601,
           46,
           1,
           16,
           15273,
           6,
           597,
           19,
           33,
           15274,
           613,
           14,
           5,
           31,
           13572,
           1671,
           3,
           584,
           59,
           13,
           21,
           10,
           4,
           21,
           5738,
           8395,
           2,
           1,
           1,
           540,
           1193
          ]
         },
         "node": {
          "color": [
           "lightgreen",
           "lightcoral",
           "lightgreen",
           "lightgreen",
           "lightblue",
           "lightblue",
           "lightgreen",
           "lightblue",
           "lightblue",
           "lightblue",
           "lightgreen",
           "lightblue",
           "lightblue",
           "lightgreen",
           "lightblue",
           "lightblue",
           "lightgreen",
           "lightblue",
           "lightblue",
           "lightgreen",
           "lightblue",
           "lightblue",
           "lightgreen",
           "lightcoral",
           "lightblue",
           "lightblue",
           "lightblue",
           "lightblue",
           "lightblue",
           "lightblue"
          ],
          "label": [
           "Q1\nYes",
           "Q2\nNo",
           "Q2\nYes",
           "Q3\nYes",
           "Q3\nNo ",
           "Q3\nNotRecorded",
           "Q4\nYes",
           "Q4\nNotRecorded",
           "Q4\nNo ",
           "Q5\nNotRecorded",
           "Q5\nYes",
           "Q5\nNo ",
           "Q6\nNotRecorded",
           "Q6\nYes",
           "Q6\nNo ",
           "Q7\nNotRecorded",
           "Q7\nYes",
           "Q7\nNo ",
           "Q8\nNotRecorded",
           "Q8\nYes",
           "Q8\nNo ",
           "Q9\nNotRecorded",
           "Q9\nYes",
           "Q9\nNo",
           "Q10\nNotRecorded",
           "Q10\nSee And Treat",
           "Q10\nSee Treat And Conveyed",
           "Q10\nCall Centre Response Only",
           "Q10\nHear And Treat",
           "Q10\nWaiting Service Response Outcome"
          ],
          "line": {
           "color": "black",
           "width": 1
          },
          "pad": 15,
          "thickness": 30
         },
         "type": "sankey"
        },
        {
         "legendgroup": "Yes",
         "marker": {
          "color": "lightgreen",
          "size": 15
         },
         "mode": "markers",
         "name": "Yes",
         "showlegend": true,
         "type": "scatter",
         "x": [
          null
         ],
         "y": [
          null
         ]
        },
        {
         "legendgroup": "No",
         "marker": {
          "color": "lightcoral",
          "size": 15
         },
         "mode": "markers",
         "name": "No",
         "showlegend": true,
         "type": "scatter",
         "x": [
          null
         ],
         "y": [
          null
         ]
        },
        {
         "legendgroup": "Not recorded",
         "marker": {
          "color": "lightgray",
          "size": 15
         },
         "mode": "markers",
         "name": "Not recorded",
         "showlegend": true,
         "type": "scatter",
         "x": [
          null
         ],
         "y": [
          null
         ]
        },
        {
         "legendgroup": "NaN",
         "marker": {
          "color": "lightgray",
          "size": 15
         },
         "mode": "markers",
         "name": "NaN",
         "showlegend": true,
         "type": "scatter",
         "x": [
          null
         ],
         "y": [
          null
         ]
        }
       ],
       "layout": {
        "annotations": [
         {
          "align": "left",
          "bgcolor": "white",
          "bordercolor": "black",
          "borderpad": 10,
          "borderwidth": 1,
          "showarrow": false,
          "text": "Q1 = Mental Capacity Assessment Undertaken<br>Q2 = Patient Does Have Capacity<br>Q3 = Does the patient have an impairment or, a disturbance in the functioning of, their mind or brain at the moment?<br>Q4 = Is the impairment or disturbance suffcient that the person lacks the capaity to make the decision at this time?<br>Q5 = Does the patient understand the information relevant to the decision including the likely consequances...?<br>Q6 = Can the patient retain that information?<br>Q7 = Can the patient use or weigh that information as part of the process of making the decision?<br>Q8 = Can the patient communicate that decision by any means?<br>Q9 = proposedCarePatientBestInterest<br>Q10 = Service Outcome",
          "x": 0.5,
          "xref": "paper",
          "y": -0.01,
          "yref": "paper"
         }
        ],
        "font": {
         "size": 12
        },
        "height": 900,
        "legend": {
         "orientation": "h",
         "x": 0.5,
         "xanchor": "center",
         "y": 1.005,
         "yanchor": "bottom"
        },
        "margin": {
         "b": 50,
         "l": 50,
         "r": 50,
         "t": 100
        },
        "template": {
         "data": {
          "bar": [
           {
            "error_x": {
             "color": "#2a3f5f"
            },
            "error_y": {
             "color": "#2a3f5f"
            },
            "marker": {
             "line": {
              "color": "#E5ECF6",
              "width": 0.5
             },
             "pattern": {
              "fillmode": "overlay",
              "size": 10,
              "solidity": 0.2
             }
            },
            "type": "bar"
           }
          ],
          "barpolar": [
           {
            "marker": {
             "line": {
              "color": "#E5ECF6",
              "width": 0.5
             },
             "pattern": {
              "fillmode": "overlay",
              "size": 10,
              "solidity": 0.2
             }
            },
            "type": "barpolar"
           }
          ],
          "carpet": [
           {
            "aaxis": {
             "endlinecolor": "#2a3f5f",
             "gridcolor": "white",
             "linecolor": "white",
             "minorgridcolor": "white",
             "startlinecolor": "#2a3f5f"
            },
            "baxis": {
             "endlinecolor": "#2a3f5f",
             "gridcolor": "white",
             "linecolor": "white",
             "minorgridcolor": "white",
             "startlinecolor": "#2a3f5f"
            },
            "type": "carpet"
           }
          ],
          "choropleth": [
           {
            "colorbar": {
             "outlinewidth": 0,
             "ticks": ""
            },
            "type": "choropleth"
           }
          ],
          "contour": [
           {
            "colorbar": {
             "outlinewidth": 0,
             "ticks": ""
            },
            "colorscale": [
             [
              0,
              "#0d0887"
             ],
             [
              0.1111111111111111,
              "#46039f"
             ],
             [
              0.2222222222222222,
              "#7201a8"
             ],
             [
              0.3333333333333333,
              "#9c179e"
             ],
             [
              0.4444444444444444,
              "#bd3786"
             ],
             [
              0.5555555555555556,
              "#d8576b"
             ],
             [
              0.6666666666666666,
              "#ed7953"
             ],
             [
              0.7777777777777778,
              "#fb9f3a"
             ],
             [
              0.8888888888888888,
              "#fdca26"
             ],
             [
              1,
              "#f0f921"
             ]
            ],
            "type": "contour"
           }
          ],
          "contourcarpet": [
           {
            "colorbar": {
             "outlinewidth": 0,
             "ticks": ""
            },
            "type": "contourcarpet"
           }
          ],
          "heatmap": [
           {
            "colorbar": {
             "outlinewidth": 0,
             "ticks": ""
            },
            "colorscale": [
             [
              0,
              "#0d0887"
             ],
             [
              0.1111111111111111,
              "#46039f"
             ],
             [
              0.2222222222222222,
              "#7201a8"
             ],
             [
              0.3333333333333333,
              "#9c179e"
             ],
             [
              0.4444444444444444,
              "#bd3786"
             ],
             [
              0.5555555555555556,
              "#d8576b"
             ],
             [
              0.6666666666666666,
              "#ed7953"
             ],
             [
              0.7777777777777778,
              "#fb9f3a"
             ],
             [
              0.8888888888888888,
              "#fdca26"
             ],
             [
              1,
              "#f0f921"
             ]
            ],
            "type": "heatmap"
           }
          ],
          "histogram": [
           {
            "marker": {
             "pattern": {
              "fillmode": "overlay",
              "size": 10,
              "solidity": 0.2
             }
            },
            "type": "histogram"
           }
          ],
          "histogram2d": [
           {
            "colorbar": {
             "outlinewidth": 0,
             "ticks": ""
            },
            "colorscale": [
             [
              0,
              "#0d0887"
             ],
             [
              0.1111111111111111,
              "#46039f"
             ],
             [
              0.2222222222222222,
              "#7201a8"
             ],
             [
              0.3333333333333333,
              "#9c179e"
             ],
             [
              0.4444444444444444,
              "#bd3786"
             ],
             [
              0.5555555555555556,
              "#d8576b"
             ],
             [
              0.6666666666666666,
              "#ed7953"
             ],
             [
              0.7777777777777778,
              "#fb9f3a"
             ],
             [
              0.8888888888888888,
              "#fdca26"
             ],
             [
              1,
              "#f0f921"
             ]
            ],
            "type": "histogram2d"
           }
          ],
          "histogram2dcontour": [
           {
            "colorbar": {
             "outlinewidth": 0,
             "ticks": ""
            },
            "colorscale": [
             [
              0,
              "#0d0887"
             ],
             [
              0.1111111111111111,
              "#46039f"
             ],
             [
              0.2222222222222222,
              "#7201a8"
             ],
             [
              0.3333333333333333,
              "#9c179e"
             ],
             [
              0.4444444444444444,
              "#bd3786"
             ],
             [
              0.5555555555555556,
              "#d8576b"
             ],
             [
              0.6666666666666666,
              "#ed7953"
             ],
             [
              0.7777777777777778,
              "#fb9f3a"
             ],
             [
              0.8888888888888888,
              "#fdca26"
             ],
             [
              1,
              "#f0f921"
             ]
            ],
            "type": "histogram2dcontour"
           }
          ],
          "mesh3d": [
           {
            "colorbar": {
             "outlinewidth": 0,
             "ticks": ""
            },
            "type": "mesh3d"
           }
          ],
          "parcoords": [
           {
            "line": {
             "colorbar": {
              "outlinewidth": 0,
              "ticks": ""
             }
            },
            "type": "parcoords"
           }
          ],
          "pie": [
           {
            "automargin": true,
            "type": "pie"
           }
          ],
          "scatter": [
           {
            "fillpattern": {
             "fillmode": "overlay",
             "size": 10,
             "solidity": 0.2
            },
            "type": "scatter"
           }
          ],
          "scatter3d": [
           {
            "line": {
             "colorbar": {
              "outlinewidth": 0,
              "ticks": ""
             }
            },
            "marker": {
             "colorbar": {
              "outlinewidth": 0,
              "ticks": ""
             }
            },
            "type": "scatter3d"
           }
          ],
          "scattercarpet": [
           {
            "marker": {
             "colorbar": {
              "outlinewidth": 0,
              "ticks": ""
             }
            },
            "type": "scattercarpet"
           }
          ],
          "scattergeo": [
           {
            "marker": {
             "colorbar": {
              "outlinewidth": 0,
              "ticks": ""
             }
            },
            "type": "scattergeo"
           }
          ],
          "scattergl": [
           {
            "marker": {
             "colorbar": {
              "outlinewidth": 0,
              "ticks": ""
             }
            },
            "type": "scattergl"
           }
          ],
          "scattermap": [
           {
            "marker": {
             "colorbar": {
              "outlinewidth": 0,
              "ticks": ""
             }
            },
            "type": "scattermap"
           }
          ],
          "scattermapbox": [
           {
            "marker": {
             "colorbar": {
              "outlinewidth": 0,
              "ticks": ""
             }
            },
            "type": "scattermapbox"
           }
          ],
          "scatterpolar": [
           {
            "marker": {
             "colorbar": {
              "outlinewidth": 0,
              "ticks": ""
             }
            },
            "type": "scatterpolar"
           }
          ],
          "scatterpolargl": [
           {
            "marker": {
             "colorbar": {
              "outlinewidth": 0,
              "ticks": ""
             }
            },
            "type": "scatterpolargl"
           }
          ],
          "scatterternary": [
           {
            "marker": {
             "colorbar": {
              "outlinewidth": 0,
              "ticks": ""
             }
            },
            "type": "scatterternary"
           }
          ],
          "surface": [
           {
            "colorbar": {
             "outlinewidth": 0,
             "ticks": ""
            },
            "colorscale": [
             [
              0,
              "#0d0887"
             ],
             [
              0.1111111111111111,
              "#46039f"
             ],
             [
              0.2222222222222222,
              "#7201a8"
             ],
             [
              0.3333333333333333,
              "#9c179e"
             ],
             [
              0.4444444444444444,
              "#bd3786"
             ],
             [
              0.5555555555555556,
              "#d8576b"
             ],
             [
              0.6666666666666666,
              "#ed7953"
             ],
             [
              0.7777777777777778,
              "#fb9f3a"
             ],
             [
              0.8888888888888888,
              "#fdca26"
             ],
             [
              1,
              "#f0f921"
             ]
            ],
            "type": "surface"
           }
          ],
          "table": [
           {
            "cells": {
             "fill": {
              "color": "#EBF0F8"
             },
             "line": {
              "color": "white"
             }
            },
            "header": {
             "fill": {
              "color": "#C8D4E3"
             },
             "line": {
              "color": "white"
             }
            },
            "type": "table"
           }
          ]
         },
         "layout": {
          "annotationdefaults": {
           "arrowcolor": "#2a3f5f",
           "arrowhead": 0,
           "arrowwidth": 1
          },
          "autotypenumbers": "strict",
          "coloraxis": {
           "colorbar": {
            "outlinewidth": 0,
            "ticks": ""
           }
          },
          "colorscale": {
           "diverging": [
            [
             0,
             "#8e0152"
            ],
            [
             0.1,
             "#c51b7d"
            ],
            [
             0.2,
             "#de77ae"
            ],
            [
             0.3,
             "#f1b6da"
            ],
            [
             0.4,
             "#fde0ef"
            ],
            [
             0.5,
             "#f7f7f7"
            ],
            [
             0.6,
             "#e6f5d0"
            ],
            [
             0.7,
             "#b8e186"
            ],
            [
             0.8,
             "#7fbc41"
            ],
            [
             0.9,
             "#4d9221"
            ],
            [
             1,
             "#276419"
            ]
           ],
           "sequential": [
            [
             0,
             "#0d0887"
            ],
            [
             0.1111111111111111,
             "#46039f"
            ],
            [
             0.2222222222222222,
             "#7201a8"
            ],
            [
             0.3333333333333333,
             "#9c179e"
            ],
            [
             0.4444444444444444,
             "#bd3786"
            ],
            [
             0.5555555555555556,
             "#d8576b"
            ],
            [
             0.6666666666666666,
             "#ed7953"
            ],
            [
             0.7777777777777778,
             "#fb9f3a"
            ],
            [
             0.8888888888888888,
             "#fdca26"
            ],
            [
             1,
             "#f0f921"
            ]
           ],
           "sequentialminus": [
            [
             0,
             "#0d0887"
            ],
            [
             0.1111111111111111,
             "#46039f"
            ],
            [
             0.2222222222222222,
             "#7201a8"
            ],
            [
             0.3333333333333333,
             "#9c179e"
            ],
            [
             0.4444444444444444,
             "#bd3786"
            ],
            [
             0.5555555555555556,
             "#d8576b"
            ],
            [
             0.6666666666666666,
             "#ed7953"
            ],
            [
             0.7777777777777778,
             "#fb9f3a"
            ],
            [
             0.8888888888888888,
             "#fdca26"
            ],
            [
             1,
             "#f0f921"
            ]
           ]
          },
          "colorway": [
           "#636efa",
           "#EF553B",
           "#00cc96",
           "#ab63fa",
           "#FFA15A",
           "#19d3f3",
           "#FF6692",
           "#B6E880",
           "#FF97FF",
           "#FECB52"
          ],
          "font": {
           "color": "#2a3f5f"
          },
          "geo": {
           "bgcolor": "white",
           "lakecolor": "white",
           "landcolor": "#E5ECF6",
           "showlakes": true,
           "showland": true,
           "subunitcolor": "white"
          },
          "hoverlabel": {
           "align": "left"
          },
          "hovermode": "closest",
          "mapbox": {
           "style": "light"
          },
          "paper_bgcolor": "white",
          "plot_bgcolor": "#E5ECF6",
          "polar": {
           "angularaxis": {
            "gridcolor": "white",
            "linecolor": "white",
            "ticks": ""
           },
           "bgcolor": "#E5ECF6",
           "radialaxis": {
            "gridcolor": "white",
            "linecolor": "white",
            "ticks": ""
           }
          },
          "scene": {
           "xaxis": {
            "backgroundcolor": "#E5ECF6",
            "gridcolor": "white",
            "gridwidth": 2,
            "linecolor": "white",
            "showbackground": true,
            "ticks": "",
            "zerolinecolor": "white"
           },
           "yaxis": {
            "backgroundcolor": "#E5ECF6",
            "gridcolor": "white",
            "gridwidth": 2,
            "linecolor": "white",
            "showbackground": true,
            "ticks": "",
            "zerolinecolor": "white"
           },
           "zaxis": {
            "backgroundcolor": "#E5ECF6",
            "gridcolor": "white",
            "gridwidth": 2,
            "linecolor": "white",
            "showbackground": true,
            "ticks": "",
            "zerolinecolor": "white"
           }
          },
          "shapedefaults": {
           "line": {
            "color": "#2a3f5f"
           }
          },
          "ternary": {
           "aaxis": {
            "gridcolor": "white",
            "linecolor": "white",
            "ticks": ""
           },
           "baxis": {
            "gridcolor": "white",
            "linecolor": "white",
            "ticks": ""
           },
           "bgcolor": "#E5ECF6",
           "caxis": {
            "gridcolor": "white",
            "linecolor": "white",
            "ticks": ""
           }
          },
          "title": {
           "x": 0.05
          },
          "xaxis": {
           "automargin": true,
           "gridcolor": "white",
           "linecolor": "white",
           "ticks": "",
           "title": {
            "standoff": 15
           },
           "zerolinecolor": "white",
           "zerolinewidth": 2
          },
          "yaxis": {
           "automargin": true,
           "gridcolor": "white",
           "linecolor": "white",
           "ticks": "",
           "title": {
            "standoff": 15
           },
           "zerolinecolor": "white",
           "zerolinewidth": 2
          }
         }
        },
        "title": {
         "text": "Patient Flow Through Questions to Service Outcome"
        },
        "width": 1200,
        "xaxis": {
         "visible": false
        },
        "yaxis": {
         "visible": false
        }
       }
      }
     },
     "metadata": {},
     "output_type": "display_data"
    }
   ],
   "source": [
    "import pandas as pd\n",
    "import plotly.graph_objects as go\n",
    "\n",
    "# Example df_clean already defined\n",
    "\n",
    "# All questions in order\n",
    "questions = [\n",
    "    \"Mental Capacity Assessment Undertaken\",\n",
    "    \"Patient Does Have Capacity\",\n",
    "    \"Does the patient have an impairment or, a disturbance in the functioning of, their mind or brain at the moment?\",\n",
    "    \"Is the impairment or disturbance suffcient that the person lacks the capaity to make the decision at this time?\",\n",
    "    \"Does the patient understand the information relevant to the decision including the likely consequances...?\",\n",
    "    \"Can the patient retain that information?\",\n",
    "    \"Can the patient use or weigh that information as part of the process of making the decision?\",\n",
    "    \"Can the patient communicate that decision by any means?\",\n",
    "    \"proposedCarePatientBestInterest\",\n",
    "    \"Service Outcome\"\n",
    "]\n",
    "\n",
    "# Map questions to simple labels\n",
    "question_labels = {q: f\"Q{i+1}\" for i, q in enumerate(questions)}\n",
    "\n",
    "# Colors for answers\n",
    "answer_colors = {\"Yes\": \"lightgreen\", \"No\": \"lightcoral\", \"Not recorded\": \"lightgray\", \"NaN\":\"lightgray\"}\n",
    "\n",
    "# Create nodes\n",
    "node_labels = []\n",
    "node_map = {}\n",
    "colors = []\n",
    "\n",
    "for q in questions:\n",
    "    for ans in df[q].unique():\n",
    "        label = f\"{question_labels[q]}\\n{ans}\"\n",
    "        node_map[(q, ans)] = len(node_labels)\n",
    "        node_labels.append(label)\n",
    "        colors.append(answer_colors.get(ans, \"lightblue\"))\n",
    "\n",
    "# Create edges\n",
    "sources = []\n",
    "targets = []\n",
    "values = []\n",
    "edge_labels = []\n",
    "\n",
    "for i in range(len(questions)-1):\n",
    "    q_from = questions[i]\n",
    "    q_to = questions[i+1]\n",
    "    counts = df.groupby([q_from, q_to]).size().reset_index(name='count')\n",
    "    for _, row in counts.iterrows():\n",
    "        sources.append(node_map[(q_from, row[q_from])])\n",
    "        targets.append(node_map[(q_to, row[q_to])])\n",
    "        values.append(row['count'])\n",
    "        edge_labels.append(f\"{row[q_from]} → {row[q_to]}: {row['count']}\")\n",
    "\n",
    "# Build Sankey diagram\n",
    "fig = go.Figure(go.Sankey(\n",
    "    node=dict(\n",
    "        label=node_labels,\n",
    "        color=colors,\n",
    "        pad=15,\n",
    "        thickness=30,\n",
    "        line=dict(color='black', width=1)\n",
    "    ),\n",
    "    link=dict(\n",
    "        source=sources,\n",
    "        target=targets,\n",
    "        value=values,\n",
    "        color=[colors[s] for s in sources],\n",
    "        hovertemplate='%{value} records<extra></extra>'\n",
    "    ),\n",
    "    domain=dict(\n",
    "        x=[0, 1],      # full width\n",
    "        y=[0.25, 1.0]  # bottom starts at 1/3 of figure height\n",
    "    )\n",
    "))\n",
    "\n",
    "# Add legend for answer colors\n",
    "for ans, color in answer_colors.items():\n",
    "    fig.add_trace(go.Scatter(\n",
    "        x=[None], y=[None], mode='markers', marker=dict(size=15, color=color),\n",
    "        legendgroup=ans, showlegend=True, name=ans\n",
    "    ))\n",
    "\n",
    "# Keep annotation below the x-axis\n",
    "annotation_text = \"<br>\".join([f\"{question_labels[q]} = {q}\" for q in questions])\n",
    "\n",
    "fig.update_layout(\n",
    "    title_text=\"Patient Flow Through Questions to Service Outcome\",\n",
    "    font_size=12,\n",
    "    width=1200,\n",
    "    height=900,\n",
    "    xaxis_visible=False,\n",
    "    yaxis_visible=False,\n",
    "    annotations=[dict(\n",
    "        text=annotation_text,\n",
    "        x=0.5,\n",
    "        y=-0.01,  # slightly below the Sankey (since y=0.33 is bottom of Sankey)\n",
    "        showarrow=False,\n",
    "        xref=\"paper\",\n",
    "        yref=\"paper\",\n",
    "        align=\"left\",\n",
    "        bordercolor=\"black\",\n",
    "        borderwidth=1,\n",
    "        borderpad=10,\n",
    "        bgcolor=\"white\"\n",
    "    )],\n",
    "    margin=dict(l=50, r=50, t=100, b=50),  # leave bottom margin for annotation\n",
    "    legend=dict(\n",
    "        orientation=\"h\",\n",
    "        yanchor=\"bottom\",\n",
    "        y=1.005,\n",
    "        xanchor=\"center\",\n",
    "        x=0.5\n",
    "    )\n",
    ")\n",
    "\n",
    "fig.show()\n"
   ]
  }
 ],
 "metadata": {
  "kernelspec": {
   "display_name": ".venv",
   "language": "python",
   "name": "python3"
  },
  "language_info": {
   "codemirror_mode": {
    "name": "ipython",
    "version": 3
   },
   "file_extension": ".py",
   "mimetype": "text/x-python",
   "name": "python",
   "nbconvert_exporter": "python",
   "pygments_lexer": "ipython3",
   "version": "3.12.3"
  }
 },
 "nbformat": 4,
 "nbformat_minor": 2
}
